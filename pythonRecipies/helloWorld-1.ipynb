{
 "cells": [
  {
   "cell_type": "code",
   "execution_count": null,
   "id": "e0e8ab62",
   "metadata": {},
   "outputs": [],
   "source": [
    "print(\"Hello, VS Code!\")\n"
   ]
  }
 ],
 "metadata": {
  "language_info": {
   "name": "python"
  }
 },
 "nbformat": 4,
 "nbformat_minor": 5
}
